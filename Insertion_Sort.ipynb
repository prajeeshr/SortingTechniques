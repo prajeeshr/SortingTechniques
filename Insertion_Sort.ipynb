{
 "cells": [
  {
   "cell_type": "code",
   "execution_count": null,
   "metadata": {},
   "outputs": [],
   "source": [
    "####INSERTION SORT\n",
    "\n",
    "len = int(input(\"Enter the length of the list\"))\n",
    "a = []\n",
    "for i in range(len):\n",
    "    b = int(input(\"Enter the elements\"))\n",
    "    a.append(b)\n",
    "for i in range(len):\n",
    "    temp = a[i]\n",
    "    j = i\n",
    "    while(j>0 and temp <a[j-1]):\n",
    "        a[j] = a[j-1]\n",
    "        j = j-1\n",
    "    a[j] = temp\n",
    "print(a)"
   ]
  }
 ],
 "metadata": {
  "kernelspec": {
   "display_name": "Python",
   "language": "python",
   "name": "conda-env-python-py"
  },
  "language_info": {
   "codemirror_mode": {
    "name": "ipython",
    "version": 3
   },
   "file_extension": ".py",
   "mimetype": "text/x-python",
   "name": "python",
   "nbconvert_exporter": "python",
   "pygments_lexer": "ipython3",
   "version": "3.6.7"
  }
 },
 "nbformat": 4,
 "nbformat_minor": 4
}
