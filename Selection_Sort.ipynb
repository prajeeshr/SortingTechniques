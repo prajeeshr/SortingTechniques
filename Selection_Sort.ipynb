{
 "cells": [
  {
   "cell_type": "code",
   "execution_count": 32,
   "metadata": {},
   "outputs": [
    {
     "name": "stdin",
     "output_type": "stream",
     "text": [
      "enter the lenght of list 10\n",
      "enter the numbers 9\n",
      "enter the numbers 2\n",
      "enter the numbers 3\n",
      "enter the numbers 1\n",
      "enter the numbers 6\n",
      "enter the numbers 7\n",
      "enter the numbers 5\n",
      "enter the numbers 4\n",
      "enter the numbers 22\n",
      "enter the numbers 99\n"
     ]
    },
    {
     "name": "stdout",
     "output_type": "stream",
     "text": [
      "[1, 2, 3, 4, 5, 6, 7, 9, 22, 99]\n"
     ]
    }
   ],
   "source": [
    "### SELECTION SORT\n",
    "\n",
    "len = int(input(\"enter the lenght of list\"))\n",
    "a = []\n",
    "for i in range(len):\n",
    "    b = int(input(\"enter the numbers\"))\n",
    "    a.append(b)\n",
    "for i in range(len):\n",
    "    min = i\n",
    "    for j in range(i+1,len):\n",
    "         if(a[min]>a[j]):\n",
    "                min = j\n",
    "    temp = 0\n",
    "    temp = a[min]\n",
    "    a[min] = a[i]\n",
    "    a[i] = temp\n",
    "\n",
    "print(a)"
   ]
  },
  {
   "cell_type": "code",
   "execution_count": 19,
   "metadata": {},
   "outputs": [
    {
     "name": "stdin",
     "output_type": "stream",
     "text": [
      "enter the numbers 7\n",
      "enter the numbers 2\n",
      "enter the numbers 8\n",
      "enter the numbers 1\n",
      "enter the numbers 9\n"
     ]
    }
   ],
   "source": []
  },
  {
   "cell_type": "code",
   "execution_count": 20,
   "metadata": {},
   "outputs": [
    {
     "name": "stdout",
     "output_type": "stream",
     "text": [
      "[1, 2, 7, 8, 9]\n"
     ]
    }
   ],
   "source": []
  },
  {
   "cell_type": "code",
   "execution_count": null,
   "metadata": {},
   "outputs": [],
   "source": []
  }
 ],
 "metadata": {
  "kernelspec": {
   "display_name": "Python",
   "language": "python",
   "name": "conda-env-python-py"
  },
  "language_info": {
   "codemirror_mode": {
    "name": "ipython",
    "version": 3
   },
   "file_extension": ".py",
   "mimetype": "text/x-python",
   "name": "python",
   "nbconvert_exporter": "python",
   "pygments_lexer": "ipython3",
   "version": "3.6.7"
  }
 },
 "nbformat": 4,
 "nbformat_minor": 4
}
